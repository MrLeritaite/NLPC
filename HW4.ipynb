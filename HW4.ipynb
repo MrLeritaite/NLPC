{
 "cells": [
  {
   "cell_type": "code",
   "execution_count": 1,
   "metadata": {},
   "outputs": [],
   "source": [
    "import nltk\n",
    "from nltk.tokenize import word_tokenize\n",
    "from nltk.tokenize import sent_tokenize\n",
    "import os\n",
    "from os.path import join\n",
    "import re\n",
    "from nltk.probability import FreqDist\n",
    "from nltk.stem import PorterStemmer\n",
    "from functools import reduce\n",
    "from operator import add\n",
    "from nltk.corpus import stopwords\n",
    "import numpy as np\n",
    "\n"
   ]
  },
  {
   "cell_type": "code",
   "execution_count": 2,
   "metadata": {},
   "outputs": [
    {
     "ename": "NameError",
     "evalue": "name 'BaseEstimator' is not defined",
     "output_type": "error",
     "traceback": [
      "\u001b[0;31m---------------------------------------------------------------------------\u001b[0m",
      "\u001b[0;31mNameError\u001b[0m                                 Traceback (most recent call last)",
      "\u001b[0;32m<ipython-input-2-efdbfd0e816c>\u001b[0m in \u001b[0;36m<module>\u001b[0;34m\u001b[0m\n\u001b[0;32m----> 1\u001b[0;31m \u001b[0;32mclass\u001b[0m \u001b[0mTextNormalize\u001b[0m\u001b[0;34m(\u001b[0m\u001b[0mBaseEstimator\u001b[0m\u001b[0;34m,\u001b[0m \u001b[0mTransformerMixin\u001b[0m\u001b[0;34m)\u001b[0m\u001b[0;34m:\u001b[0m\u001b[0;34m\u001b[0m\u001b[0;34m\u001b[0m\u001b[0m\n\u001b[0m\u001b[1;32m      2\u001b[0m     \u001b[0;32mdef\u001b[0m \u001b[0m__init__\u001b[0m\u001b[0;34m(\u001b[0m\u001b[0mself\u001b[0m\u001b[0;34m)\u001b[0m\u001b[0;34m:\u001b[0m\u001b[0;34m\u001b[0m\u001b[0;34m\u001b[0m\u001b[0m\n\u001b[1;32m      3\u001b[0m         \u001b[0;32mpass\u001b[0m\u001b[0;34m\u001b[0m\u001b[0;34m\u001b[0m\u001b[0m\n\u001b[1;32m      4\u001b[0m     \u001b[0;32mdef\u001b[0m \u001b[0mfit\u001b[0m\u001b[0;34m(\u001b[0m\u001b[0mself\u001b[0m\u001b[0;34m,\u001b[0m \u001b[0mX\u001b[0m\u001b[0;34m,\u001b[0m \u001b[0my\u001b[0m\u001b[0;34m=\u001b[0m\u001b[0;32mNone\u001b[0m\u001b[0;34m)\u001b[0m\u001b[0;34m:\u001b[0m\u001b[0;34m\u001b[0m\u001b[0;34m\u001b[0m\u001b[0m\n\u001b[1;32m      5\u001b[0m         \u001b[0;32mreturn\u001b[0m \u001b[0mself\u001b[0m\u001b[0;34m\u001b[0m\u001b[0;34m\u001b[0m\u001b[0m\n",
      "\u001b[0;31mNameError\u001b[0m: name 'BaseEstimator' is not defined"
     ]
    }
   ],
   "source": [
    "class TextNormalize(BaseEstimator, TransformerMixin):\n",
    "    def __init__(self):\n",
    "        pass\n",
    "    def fit(self, X, y=None):\n",
    "        return self\n",
    "    def transform(self, X, y=None):\n",
    "        # Replacing the new line symbols wiht space.\n",
    "        X = X.replace('\\n', ' ')\n",
    "        \n",
    "        X = X.replace('\\r', ' ')\n",
    "        \n",
    "        # Bringing the text to the lower case.\n",
    "        X = X.lower()\n",
    "        \n",
    "        # Extracting only the words from the text.\n",
    "        X = ' '.join(re.findall('[a-z]+', X))\n",
    "        \n",
    "        return X\n",
    "            "
   ]
  },
  {
   "cell_type": "code",
   "execution_count": null,
   "metadata": {},
   "outputs": [],
   "source": [
    "text = 'The smooth muscle ﬁbres taper at both ends (fusiform) and do not\\nshow striations (Figure 7.7b). Cell junctions hold them together and they\\nare bundled together in a connective tissue sheath. The wall of internal\\norgans such as the blood vessels, stomach and intestine contains this type\\nof muscle tissue. Smooth muscles are ‘involuntary’ as their functioning\\ncannot be directly controlled. We usually are not able to make it contract\\nmerely by thinking about it as we can do with skeletal muscles.\\n\\nCardiac muscle tissue is a contractile tissue present only in the heart.\\nCell junctions fuse the plasma membranes of cardiac muscle cells and\\nmake them stick together (Figure 7.70). Communication junctions\\n(intercalated discs) at some fusion points allow the cells to contract as a\\nunit, i.e., when one cell receives a signal to contract, its neighbours are\\nalso stimulated to contract.'\n",
    "text"
   ]
  },
  {
   "cell_type": "code",
   "execution_count": null,
   "metadata": {},
   "outputs": [],
   "source": [
    "obj = TextNormalize()\n",
    "obj.transform(text)"
   ]
  },
  {
   "cell_type": "code",
   "execution_count": null,
   "metadata": {},
   "outputs": [],
   "source": [
    "class WordExtractor(BaseEstimator, TransformerMixin):\n",
    "    def __init__(self, stop_words = None):\n",
    "        self.__stop_words = stop_words\n",
    "    def fit(self, X, y=None):\n",
    "        self.__hapaxes = []\n",
    "        \n",
    "        fdist = FreqDist()\n",
    "        \n",
    "        self.__hapaxes = fdist.hapaxes()\n",
    "        return self\n",
    "    def transform(self, X, y=None):\n",
    "        \n",
    "        self.fit(X)\n",
    "        self.common_hapaxes = list(reduce(add, [self.__hapaxes]))\n",
    "        X = ' '.join([word for word in word_tokenize(X)\n",
    "                                        if word not in self.common_hapaxes])\n",
    "        \n",
    "        if self.__stop_words is not None:\n",
    "            X = ' '.join([word for word in word_tokenize(X)\n",
    "                            if word not in self.__stop_words])\n",
    "        return X"
   ]
  },
  {
   "cell_type": "code",
   "execution_count": null,
   "metadata": {},
   "outputs": [],
   "source": [
    "obj2 = WordExtractor(stopwords.words('english'))\n",
    "obj2.transform(text)"
   ]
  },
  {
   "cell_type": "code",
   "execution_count": null,
   "metadata": {},
   "outputs": [],
   "source": [
    "class ApplyStemmer(BaseEstimator, TransformerMixin):\n",
    "    def __init__(self, stemmer = None):\n",
    "        self.stemmer = stemmer\n",
    "    def fit(self, X, y=None):\n",
    "        return self\n",
    "    def transform(self, X, y=None):\n",
    "        X =  ' '.join([self.stemmer.stem(word) for word in word_tokenize(X)])\n",
    "        return X"
   ]
  },
  {
   "cell_type": "code",
   "execution_count": null,
   "metadata": {},
   "outputs": [],
   "source": [
    "obj3 = ApplyStemmer(PorterStemmer())\n",
    "obj3.transform(text)"
   ]
  },
  {
   "cell_type": "code",
   "execution_count": null,
   "metadata": {},
   "outputs": [],
   "source": []
  }
 ],
 "metadata": {
  "kernelspec": {
   "display_name": "Python 3",
   "language": "python",
   "name": "python3"
  },
  "language_info": {
   "codemirror_mode": {
    "name": "ipython",
    "version": 3
   },
   "file_extension": ".py",
   "mimetype": "text/x-python",
   "name": "python",
   "nbconvert_exporter": "python",
   "pygments_lexer": "ipython3",
   "version": "3.8.5"
  }
 },
 "nbformat": 4,
 "nbformat_minor": 4
}
