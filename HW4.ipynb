{
 "cells": [
  {
   "cell_type": "code",
   "execution_count": 1,
   "metadata": {},
   "outputs": [],
   "source": [
    "import nltk\n",
    "from nltk.tokenize import word_tokenize\n",
    "from nltk.tokenize import sent_tokenize\n",
    "import os\n",
    "from os.path import join\n",
    "import re\n",
    "from nltk.probability import FreqDist\n",
    "from nltk.stem import PorterStemmer\n",
    "from functools import reduce\n",
    "from operator import add\n",
    "from nltk.corpus import stopwords\n",
    "import numpy as np\n",
    "\n",
    "from sklearn.base import BaseEstimator, TransformerMixin"
   ]
  },
  {
   "cell_type": "code",
   "execution_count": 2,
   "metadata": {},
   "outputs": [],
   "source": [
    "class TextNormalize(BaseEstimator, TransformerMixin):\n",
    "    def __init__(self):\n",
    "        pass\n",
    "    def fit(self, X, y=None):\n",
    "        return self\n",
    "    def transform(self, X, y=None):\n",
    "        # Replacing the new line symbols wiht space.\n",
    "        X = X.replace('\\n', ' ')\n",
    "        \n",
    "        X = X.replace('\\r', ' ')\n",
    "        \n",
    "        # Bringing the text to the lower case.\n",
    "        X = X.lower()\n",
    "        \n",
    "        # Extracting only the words from the text.\n",
    "        X = ' '.join(re.findall('[a-z]+', X))\n",
    "        \n",
    "        return X\n",
    "            "
   ]
  },
  {
   "cell_type": "code",
   "execution_count": 3,
   "metadata": {},
   "outputs": [
    {
     "data": {
      "text/plain": [
       "'The smooth muscle ﬁbres taper at both ends (fusiform) and do not\\nshow striations (Figure 7.7b). Cell junctions hold them together and they\\nare bundled together in a connective tissue sheath. The wall of internal\\norgans such as the blood vessels, stomach and intestine contains this type\\nof muscle tissue. Smooth muscles are ‘involuntary’ as their functioning\\ncannot be directly controlled. We usually are not able to make it contract\\nmerely by thinking about it as we can do with skeletal muscles.\\n\\nCardiac muscle tissue is a contractile tissue present only in the heart.\\nCell junctions fuse the plasma membranes of cardiac muscle cells and\\nmake them stick together (Figure 7.70). Communication junctions\\n(intercalated discs) at some fusion points allow the cells to contract as a\\nunit, i.e., when one cell receives a signal to contract, its neighbours are\\nalso stimulated to contract.'"
      ]
     },
     "execution_count": 3,
     "metadata": {},
     "output_type": "execute_result"
    }
   ],
   "source": [
    "text = 'The smooth muscle ﬁbres taper at both ends (fusiform) and do not\\nshow striations (Figure 7.7b). Cell junctions hold them together and they\\nare bundled together in a connective tissue sheath. The wall of internal\\norgans such as the blood vessels, stomach and intestine contains this type\\nof muscle tissue. Smooth muscles are ‘involuntary’ as their functioning\\ncannot be directly controlled. We usually are not able to make it contract\\nmerely by thinking about it as we can do with skeletal muscles.\\n\\nCardiac muscle tissue is a contractile tissue present only in the heart.\\nCell junctions fuse the plasma membranes of cardiac muscle cells and\\nmake them stick together (Figure 7.70). Communication junctions\\n(intercalated discs) at some fusion points allow the cells to contract as a\\nunit, i.e., when one cell receives a signal to contract, its neighbours are\\nalso stimulated to contract.'\n",
    "text"
   ]
  },
  {
   "cell_type": "code",
   "execution_count": 4,
   "metadata": {},
   "outputs": [
    {
     "data": {
      "text/plain": [
       "'the smooth muscle bres taper at both ends fusiform and do not show striations figure b cell junctions hold them together and they are bundled together in a connective tissue sheath the wall of internal organs such as the blood vessels stomach and intestine contains this type of muscle tissue smooth muscles are involuntary as their functioning cannot be directly controlled we usually are not able to make it contract merely by thinking about it as we can do with skeletal muscles cardiac muscle tissue is a contractile tissue present only in the heart cell junctions fuse the plasma membranes of cardiac muscle cells and make them stick together figure communication junctions intercalated discs at some fusion points allow the cells to contract as a unit i e when one cell receives a signal to contract its neighbours are also stimulated to contract'"
      ]
     },
     "execution_count": 4,
     "metadata": {},
     "output_type": "execute_result"
    }
   ],
   "source": [
    "obj = TextNormalize()\n",
    "obj.transform(text)"
   ]
  },
  {
   "cell_type": "code",
   "execution_count": 5,
   "metadata": {},
   "outputs": [],
   "source": [
    "class WordExtractor(BaseEstimator, TransformerMixin):\n",
    "    def __init__(self, stop_words = None):\n",
    "        self.__stop_words = stop_words\n",
    "    def fit(self, X, y=None):\n",
    "        self.__hapaxes = []\n",
    "        \n",
    "        fdist = FreqDist()\n",
    "        \n",
    "        self.__hapaxes = fdist.hapaxes()\n",
    "        return self\n",
    "    def transform(self, X, y=None):\n",
    "        \n",
    "        self.fit(X)\n",
    "        self.common_hapaxes = list(reduce(add, [self.__hapaxes]))\n",
    "        X = ' '.join([word for word in word_tokenize(X)\n",
    "                                        if word not in self.common_hapaxes])\n",
    "        \n",
    "        if self.__stop_words is not None:\n",
    "            X = ' '.join([word for word in word_tokenize(X)\n",
    "                            if word not in self.__stop_words])\n",
    "        return X"
   ]
  },
  {
   "cell_type": "code",
   "execution_count": 6,
   "metadata": {},
   "outputs": [
    {
     "data": {
      "text/plain": [
       "'The smooth muscle ﬁbres taper ends ( fusiform ) show striations ( Figure 7.7b ) . Cell junctions hold together bundled together connective tissue sheath . The wall internal organs blood vessels , stomach intestine contains type muscle tissue . Smooth muscles ‘ involuntary ’ functioning directly controlled . We usually able make contract merely thinking skeletal muscles . Cardiac muscle tissue contractile tissue present heart . Cell junctions fuse plasma membranes cardiac muscle cells make stick together ( Figure 7.70 ) . Communication junctions ( intercalated discs ) fusion points allow cells contract unit , i.e . , one cell receives signal contract , neighbours also stimulated contract .'"
      ]
     },
     "execution_count": 6,
     "metadata": {},
     "output_type": "execute_result"
    }
   ],
   "source": [
    "obj2 = WordExtractor(stopwords.words('english'))\n",
    "obj2.transform(text)"
   ]
  },
  {
   "cell_type": "code",
   "execution_count": 7,
   "metadata": {},
   "outputs": [],
   "source": [
    "class ApplyStemmer(BaseEstimator, TransformerMixin):\n",
    "    def __init__(self, stemmer = None):\n",
    "        self.stemmer = stemmer\n",
    "    def fit(self, X, y=None):\n",
    "        return self\n",
    "    def transform(self, X, y=None):\n",
    "        X =  ' '.join([self.stemmer.stem(word) for word in word_tokenize(X)])\n",
    "        return X"
   ]
  },
  {
   "cell_type": "code",
   "execution_count": 8,
   "metadata": {},
   "outputs": [
    {
     "data": {
      "text/plain": [
       "'the smooth muscl ﬁbre taper at both end ( fusiform ) and do not show striation ( figur 7.7b ) . cell junction hold them togeth and they are bundl togeth in a connect tissu sheath . the wall of intern organ such as the blood vessel , stomach and intestin contain thi type of muscl tissu . smooth muscl are ‘ involuntari ’ as their function can not be directli control . We usual are not abl to make it contract mere by think about it as we can do with skelet muscl . cardiac muscl tissu is a contractil tissu present onli in the heart . cell junction fuse the plasma membran of cardiac muscl cell and make them stick togeth ( figur 7.70 ) . commun junction ( intercal disc ) at some fusion point allow the cell to contract as a unit , i.e. , when one cell receiv a signal to contract , it neighbour are also stimul to contract .'"
      ]
     },
     "execution_count": 8,
     "metadata": {},
     "output_type": "execute_result"
    }
   ],
   "source": [
    "obj3 = ApplyStemmer(PorterStemmer())\n",
    "obj3.transform(text)"
   ]
  },
  {
   "cell_type": "code",
   "execution_count": null,
   "metadata": {},
   "outputs": [],
   "source": []
  }
 ],
 "metadata": {
  "kernelspec": {
   "display_name": "Python 3",
   "language": "python",
   "name": "python3"
  },
  "language_info": {
   "codemirror_mode": {
    "name": "ipython",
    "version": 3
   },
   "file_extension": ".py",
   "mimetype": "text/x-python",
   "name": "python",
   "nbconvert_exporter": "python",
   "pygments_lexer": "ipython3",
   "version": "3.8.5"
  }
 },
 "nbformat": 4,
 "nbformat_minor": 4
}
